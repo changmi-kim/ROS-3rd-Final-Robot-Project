{
 "cells": [
  {
   "cell_type": "code",
   "execution_count": null,
   "metadata": {},
   "outputs": [],
   "source": [
    "import serial\n",
    "import numpy as np"
   ]
  },
  {
   "cell_type": "code",
   "execution_count": null,
   "metadata": {},
   "outputs": [],
   "source": [
    "# pip3 install pyserial"
   ]
  },
  {
   "cell_type": "markdown",
   "metadata": {},
   "source": [
    "1. 기본포멧\n",
    "- CMD\n",
    "    - 0x01: Enable Motor\n",
    "    - 0x02: Set Command\n",
    "    - 0x03: Request Robot States\n",
    "    - 0x90 + CMD: Response for Command\n",
    "\n",
    "- DATA\n",
    "    - N bytes\n",
    "\n",
    "- RESPONSE\n",
    "    - 0x00: Don’t send Response\n",
    "    - 0x01: Send Response\n",
    "\n",
    "- LEN\n",
    "    - Packet Length from CMD to DATA\n",
    "\n",
    "- CHECKSUM\n",
    "    - Total Sum from CMD to LEN\n",
    "    - Casting uint8_t\n",
    "---\n",
    "2. Enable Motor\n",
    "- DATA\n",
    "    - 0x01: Enable Motor\n",
    "    - 0x00: Disable Motor\n",
    "---\n",
    "3. Send Command\n",
    "- L_VEL, R_VEL\n",
    "    - 2 Bytes\n",
    "    - HIGH | LOW\n",
    "    - -32768 ~ -32767\n",
    "    - Encoder Count / Second\n",
    "\n",
    "- L_LED, R_LED\n",
    "    - uint8_t\n",
    "    - 0 ~ 255\n",
    "---\n",
    "4. Request States\n",
    "- L_POS ,R_POS\n",
    "    - Encoder Count\n",
    "    - int32_t\n",
    "    \n",
    "- SENSOR\n",
    "    - uint16_t\n",
    "    - Sensor Range"
   ]
  },
  {
   "cell_type": "code",
   "execution_count": 51,
   "metadata": {},
   "outputs": [
    {
     "name": "stdout",
     "output_type": "stream",
     "text": [
      "/dev/ttyUSB1\n"
     ]
    }
   ],
   "source": [
    "# 파이썬에서 접근\n",
    "# ser = serial.Serial('/dev/cu.usbserial-110', 1000000)\n",
    "ser = serial.Serial('/dev/ttyUSB1', 1000000)\n",
    "ser = serial.Serial('/dev/ttyArduino', 1000000)\n",
    "\n",
    "print(ser.name)"
   ]
  },
  {
   "cell_type": "code",
   "execution_count": 52,
   "metadata": {},
   "outputs": [],
   "source": [
    "# 한 byte씩 읽는 함수\n",
    "def read(size=1, timeout=None):\n",
    "    ser.timeout = timeout\n",
    "    readed = ser.read(size)\n",
    "    return readed"
   ]
  },
  {
   "cell_type": "code",
   "execution_count": 53,
   "metadata": {},
   "outputs": [
    {
     "name": "stdout",
     "output_type": "stream",
     "text": [
      "b'\\xfa\\xfe\\x93\\x00\\x00\\x00\\x00\\x00\\x00\\x00\\x00\\x00\\x00\\x00\\x00p\\x0e~\\xfa\\xfd'\n"
     ]
    }
   ],
   "source": [
    "# 상태 받아오기\n",
    "command = b\"\\xfa\\xfe\\x03\\x01\\x04\\xfa\\xfd\"\n",
    "ser.write(command)\n",
    "\n",
    "incomming = read(size=20, timeout=1)\n",
    "print(incomming)"
   ]
  },
  {
   "cell_type": "code",
   "execution_count": 54,
   "metadata": {},
   "outputs": [
    {
     "name": "stdout",
     "output_type": "stream",
     "text": [
      "b'\\xfa\\xfe\\x91\\x01\\x01\\x03\\x8b\\xfa\\xfd'\n"
     ]
    }
   ],
   "source": [
    "# motor enable\n",
    "command = b\"\\xfa\\xfe\\x01\\x01\\x01\\x03\\x06\\xfa\\xfd\"\n",
    "ser.write(command)\n",
    "\n",
    "print(read(size=20, timeout=1))"
   ]
  },
  {
   "cell_type": "code",
   "execution_count": 78,
   "metadata": {},
   "outputs": [
    {
     "name": "stdout",
     "output_type": "stream",
     "text": [
      "[250, 254, 2, 0, 5, 0, 5, 0, 255, 255, 0, 9, 19, 250, 253]\n",
      "b'\\xfa\\xfe\\x02\\x00\\x05\\x00\\x05\\x00\\xff\\xff\\x00\\t\\x13\\xfa\\xfd'\n"
     ]
    },
    {
     "name": "stderr",
     "output_type": "stream",
     "text": [
      "/tmp/ipykernel_19508/158313323.py:12: DeprecationWarning: NumPy will stop allowing conversion of out-of-bound Python integers to integer arrays.  The conversion of 531 to uint8 will fail in the future.\n",
      "For the old behavior, usually:\n",
      "    np.array(value).astype(dtype)\n",
      "will give the desired result (the cast overflows).\n",
      "  command[12] = np.uint8(sum(command[2:12]))\n"
     ]
    },
    {
     "data": {
      "text/plain": [
       "15"
      ]
     },
     "execution_count": 78,
     "metadata": {},
     "output_type": "execute_result"
    }
   ],
   "source": [
    "# 모터를 돌리고 LED ON\n",
    "command = [0xfa, 0xfe, 0x02, 0, 0, 0, 0, 0, 0, 0, 0, 9, 0, 0xfa, 0xfd]\n",
    "\n",
    "command[3] = 0\n",
    "command[4] = 5\n",
    "command[5] = 0\n",
    "command[6] = 5           \n",
    "command[7] = 0\n",
    "command[8] = 255\n",
    "command[9] = 255\n",
    "command[12] = np.uint8(sum(command[2:12]))\n",
    "\n",
    "print(command)\n",
    "print(bytes(command))\n",
    "\n",
    "ser.write(bytes(command))"
   ]
  },
  {
   "cell_type": "code",
   "execution_count": null,
   "metadata": {},
   "outputs": [],
   "source": []
  }
 ],
 "metadata": {
  "kernelspec": {
   "display_name": "Python 3",
   "language": "python",
   "name": "python3"
  },
  "language_info": {
   "codemirror_mode": {
    "name": "ipython",
    "version": 3
   },
   "file_extension": ".py",
   "mimetype": "text/x-python",
   "name": "python",
   "nbconvert_exporter": "python",
   "pygments_lexer": "ipython3",
   "version": "3.10.12"
  }
 },
 "nbformat": 4,
 "nbformat_minor": 2
}
